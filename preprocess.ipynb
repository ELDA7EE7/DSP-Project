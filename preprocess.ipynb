{
 "cells": [
  {
   "cell_type": "code",
   "execution_count": 3,
   "metadata": {},
   "outputs": [],
   "source": [
    "import random\n",
    "import statistics\n",
    "import numpy as np\n",
    "from scipy.signal import butter, filtfilt\n",
    "import matplotlib.pyplot as plt\n",
    "from mpl_toolkits.mplot3d import Axes3D\n",
    "import pywt"
   ]
  },
  {
   "cell_type": "code",
   "execution_count": 6,
   "metadata": {},
   "outputs": [],
   "source": [
    "normal_train_path=\"Normal&LBBB/Normal_Train.txt\"\n",
    "normal_test_path = \"Normal&LBBB/Normal_Test.txt\"\n",
    "lbbb_train_path = \"Normal&LBBB/LBBB_Train.txt\"\n",
    "lbbb_test_path = \"Normal&LBBB/LBBB_Test.txt\""
   ]
  },
  {
   "cell_type": "code",
   "execution_count": 7,
   "metadata": {},
   "outputs": [],
   "source": [
    "def read_numbers_to_numpy(file_path):\n",
    "    try:\n",
    "        with open(file_path, 'r') as file:\n",
    "            # Read the file content\n",
    "            content = file.read()\n",
    "            \n",
    "            # Split the content by '|' and convert to float\n",
    "            numbers = [float(num) for num in content.strip().split('|')]\n",
    "            \n",
    "            # Convert the list to a NumPy array\n",
    "            array = np.array(numbers)\n",
    "            \n",
    "        return array\n",
    "    except FileNotFoundError:\n",
    "        print(f\"Error: The file '{file_path}' does not exist.\")\n",
    "        return None\n",
    "    except ValueError:\n",
    "        print(\"Error: Ensure the file contains only numbers separated by '|'.\")\n",
    "        return None"
   ]
  },
  {
   "cell_type": "code",
   "execution_count": 8,
   "metadata": {},
   "outputs": [
    {
     "name": "stdout",
     "output_type": "stream",
     "text": [
      "Error: Ensure the file contains only numbers separated by '|'.\n",
      "Error: Ensure the file contains only numbers separated by '|'.\n",
      "Error: Ensure the file contains only numbers separated by '|'.\n",
      "Error: Ensure the file contains only numbers separated by '|'.\n"
     ]
    },
    {
     "ename": "AttributeError",
     "evalue": "'NoneType' object has no attribute 'head'",
     "output_type": "error",
     "traceback": [
      "\u001b[1;31m---------------------------------------------------------------------------\u001b[0m",
      "\u001b[1;31mAttributeError\u001b[0m                            Traceback (most recent call last)",
      "Cell \u001b[1;32mIn[8], line 5\u001b[0m\n\u001b[0;32m      3\u001b[0m lbbb_train\u001b[38;5;241m=\u001b[39mread_numbers_to_numpy(lbbb_train_path)\n\u001b[0;32m      4\u001b[0m lbbb_test\u001b[38;5;241m=\u001b[39mread_numbers_to_numpy(lbbb_test_path)\n\u001b[1;32m----> 5\u001b[0m \u001b[43mnormal_train\u001b[49m\u001b[38;5;241;43m.\u001b[39;49m\u001b[43mhead\u001b[49m()\n",
      "\u001b[1;31mAttributeError\u001b[0m: 'NoneType' object has no attribute 'head'"
     ]
    }
   ],
   "source": [
    "normal_train=read_numbers_to_numpy(normal_train_path)\n",
    "normal_test = read_numbers_to_numpy(normal_test_path)\n",
    "lbbb_train=read_numbers_to_numpy(lbbb_train_path)\n",
    "lbbb_test=read_numbers_to_numpy(lbbb_test_path)\n"
   ]
  }
 ],
 "metadata": {
  "kernelspec": {
   "display_name": "applai",
   "language": "python",
   "name": "python3"
  },
  "language_info": {
   "codemirror_mode": {
    "name": "ipython",
    "version": 3
   },
   "file_extension": ".py",
   "mimetype": "text/x-python",
   "name": "python",
   "nbconvert_exporter": "python",
   "pygments_lexer": "ipython3",
   "version": "3.11.9"
  }
 },
 "nbformat": 4,
 "nbformat_minor": 2
}
