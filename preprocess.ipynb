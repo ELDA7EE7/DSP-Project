{
 "cells": [
  {
   "cell_type": "code",
   "execution_count": 123,
   "metadata": {},
   "outputs": [],
   "source": [
    "import random\n",
    "import statistics\n",
    "import numpy as np\n",
    "from scipy.signal import butter, filtfilt,sosfilt\n",
    "import matplotlib.pyplot as plt\n",
    "from mpl_toolkits.mplot3d import Axes3D\n",
    "import pywt\n",
    "import math"
   ]
  },
  {
   "cell_type": "code",
   "execution_count": 124,
   "metadata": {},
   "outputs": [],
   "source": [
    "normal_train_path=\"Normal&LBBB/Normal_Train.txt\"\n",
    "normal_test_path = \"Normal&LBBB/Normal_Test.txt\"\n",
    "lbbb_train_path = \"Normal&LBBB/LBBB_Train.txt\"\n",
    "lbbb_test_path = \"Normal&LBBB/LBBB_Test.txt\""
   ]
  },
  {
   "cell_type": "code",
   "execution_count": 125,
   "metadata": {},
   "outputs": [],
   "source": [
    "FS=360\n",
    "LOW_CUT=0.5\n",
    "HIGH_CUT=40"
   ]
  },
  {
   "cell_type": "code",
   "execution_count": 126,
   "metadata": {},
   "outputs": [],
   "source": [
    "def getDataEntries(filename):\n",
    "    data = []\n",
    "    with open(filename, \"r\") as file:\n",
    "        for line in file:\n",
    "            parts = line.strip().split('|')\n",
    "            data.append(parts)\n",
    "    data = [i[:len(i)-1] for i in data]\n",
    "    new_data = []\n",
    "    for inner_list in data:\n",
    "        new_inner_list = [float(element) for element in inner_list]\n",
    "        new_data.append(new_inner_list)\n",
    "    return new_data"
   ]
  },
  {
   "cell_type": "code",
   "execution_count": 127,
   "metadata": {},
   "outputs": [],
   "source": [
    "normal_train=getDataEntries(normal_train_path)\n",
    "normal_test = getDataEntries(normal_test_path)\n",
    "lbbb_train=getDataEntries(lbbb_train_path)\n",
    "lbbb_test=getDataEntries(lbbb_test_path)\n"
   ]
  },
  {
   "cell_type": "code",
   "execution_count": 128,
   "metadata": {},
   "outputs": [
    {
     "name": "stdout",
     "output_type": "stream",
     "text": [
      "200 200 399 394\n"
     ]
    }
   ],
   "source": [
    "print(len(normal_train),len(normal_test),len(lbbb_train),len(lbbb_test))"
   ]
  },
  {
   "cell_type": "code",
   "execution_count": 129,
   "metadata": {},
   "outputs": [],
   "source": [
    "def remove_mean(signal:list):\n",
    "    mean= statistics.mean(signal)\n",
    "    new_signal=[i-mean for i in signal]\n",
    "    return new_signal\n",
    "\n",
    "def remove_mean_for_all(signals:list):\n",
    "    new_signals=[]\n",
    "    for i in range(len(signals)):\n",
    "        new_signals.append(remove_mean(signals[i]))\n",
    "    return new_signals"
   ]
  },
  {
   "cell_type": "code",
   "execution_count": 130,
   "metadata": {},
   "outputs": [],
   "source": [
    "normal_train=remove_mean_for_all(normal_train)\n",
    "normal_test=remove_mean_for_all(normal_test)\n",
    "lbbb_test=remove_mean_for_all(lbbb_test)\n",
    "lbbb_train=remove_mean_for_all(lbbb_train)"
   ]
  },
  {
   "cell_type": "code",
   "execution_count": 131,
   "metadata": {},
   "outputs": [],
   "source": [
    "def bandpass_filter(signal, fs, lowcut, highcut, order=4):\n",
    "    \"\"\"\n",
    "    Apply a bandpass filter to a signal.\n",
    "\n",
    "    Parameters:\n",
    "        signal (array): Input signal.\n",
    "        fs (float): Sampling frequency of the signal.\n",
    "        lowcut (float): Low cutoff frequency of the bandpass filter.\n",
    "        highcut (float): High cutoff frequency of the bandpass filter.\n",
    "        order (int): Order of the filter. Default is 4.\n",
    "\n",
    "    Returns:\n",
    "        filtered_signal (array): Filtered signal.\n",
    "    \"\"\"\n",
    "    # Design a bandpass filter using the Butterworth design\n",
    "    nyquist = 0.5 * fs\n",
    "    low = lowcut / nyquist\n",
    "    high = highcut / nyquist\n",
    "\n",
    "    sos = butter(order, [low, high], btype='band', output='sos')\n",
    "\n",
    "    # Apply the filter to the signal\n",
    "    filtered_signal = sosfilt(sos, signal)\n",
    "\n",
    "    return filtered_signal"
   ]
  },
  {
   "cell_type": "code",
   "execution_count": 132,
   "metadata": {},
   "outputs": [],
   "source": [
    "normal_train=bandpass_filter(normal_train,FS,LOW_CUT,HIGH_CUT)\n",
    "normal_test=bandpass_filter(normal_test,FS,LOW_CUT,HIGH_CUT)\n",
    "lbbb_test=bandpass_filter(lbbb_test,FS,LOW_CUT,HIGH_CUT)\n",
    "lbbb_train=bandpass_filter(lbbb_train,FS,LOW_CUT,HIGH_CUT)"
   ]
  },
  {
   "cell_type": "code",
   "execution_count": 133,
   "metadata": {},
   "outputs": [],
   "source": [
    "def normalize_signal(signal, new_min=0, new_max=1):\n",
    "    \"\"\"\n",
    "    Normalize a signal to a specified range [new_min, new_max].\n",
    "\n",
    "    Parameters:\n",
    "        signal (array-like): Input signal to be normalized.\n",
    "        new_min (float): Minimum value of the normalized signal.\n",
    "        new_max (float): Maximum value of the normalized signal.\n",
    "\n",
    "    Returns:\n",
    "        numpy.ndarray: Normalized signal.\n",
    "    \"\"\"\n",
    "    signal = np.array(signal)\n",
    "    old_min = np.min(signal)\n",
    "    old_max = np.max(signal)\n",
    "    \n",
    "    if old_min == old_max:\n",
    "        raise ValueError(\"Signal has no variation (all values are the same).\")\n",
    "    \n",
    "    normalized_signal = (signal - old_min) / (old_max - old_min)  # Scale to [0, 1]\n",
    "    normalized_signal = normalized_signal * (new_max - new_min) + new_min  # Scale to [new_min, new_max]\n",
    "    \n",
    "    return normalized_signal"
   ]
  },
  {
   "cell_type": "code",
   "execution_count": 134,
   "metadata": {},
   "outputs": [],
   "source": [
    "normal_train=normalize_signal(normal_train,-1,1)\n",
    "normal_test=normalize_signal(normal_test,-1,1)\n",
    "lbbb_test=normalize_signal(lbbb_test,-1,1)\n",
    "lbbb_train=normalize_signal(lbbb_train,-1,1)"
   ]
  }
 ],
 "metadata": {
  "kernelspec": {
   "display_name": "applai",
   "language": "python",
   "name": "python3"
  },
  "language_info": {
   "codemirror_mode": {
    "name": "ipython",
    "version": 3
   },
   "file_extension": ".py",
   "mimetype": "text/x-python",
   "name": "python",
   "nbconvert_exporter": "python",
   "pygments_lexer": "ipython3",
   "version": "3.11.9"
  }
 },
 "nbformat": 4,
 "nbformat_minor": 2
}
